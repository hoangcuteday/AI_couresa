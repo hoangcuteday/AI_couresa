{
 "cells": [
  {
   "cell_type": "markdown",
   "metadata": {},
   "source": [
    "# Optional Lab: Gradient descent for linear regression\n"
   ]
  },
  {
   "cell_type": "markdown",
   "metadata": {},
   "source": [
    "## Tools\n",
    "- NumPy, a popular lib for scientific computing\n",
    "- Matplotlib, a popular lib for plotting data"
   ]
  },
  {
   "cell_type": "code",
   "execution_count": 1,
   "metadata": {},
   "outputs": [],
   "source": [
    "import numpy as np\n",
    "import matplotlib.pyplot as plt"
   ]
  },
  {
   "cell_type": "markdown",
   "metadata": {},
   "source": [
    "### Init training set with two data points"
   ]
  },
  {
   "cell_type": "code",
   "execution_count": 2,
   "metadata": {},
   "outputs": [],
   "source": [
    "x_train = np.array([1.0, 2.0]) # features input\n",
    "y_train = np.array([300.0, 500.0]) # target value"
   ]
  },
  {
   "cell_type": "markdown",
   "metadata": {},
   "source": [
    "Plot the data"
   ]
  },
  {
   "cell_type": "code",
   "execution_count": 3,
   "metadata": {},
   "outputs": [
    {
     "data": {
      "image/png": "[encoded data removed]",
      "text/plain": [
       "<Figure size 432x288 with 1 Axes>"
      ]
     },
     "metadata": {
      "needs_background": "light"
     },
     "output_type": "display_data"
    }
   ],
   "source": [
    "plt.scatter(x_train, y_train, marker = \"x\")\n",
    "plt.title(\"Housing prices\")\n",
    "plt.xlabel(\"House metter\")\n",
    "plt.ylabel(\"House prices\")\n",
    "plt.show()"
   ]
  },
  {
   "cell_type": "markdown",
   "metadata": {},
   "source": [
    "## Cost function\n",
    "### Compute cost\n"
   ]
  },
  {
   "cell_type": "code",
   "execution_count": 4,
   "metadata": {},
   "outputs": [],
   "source": [
    "def compute_cost(x, y, w, b):\n",
    "    m = x.shape[0]\n",
    "    cost = 0\n",
    "    for i in range(m):\n",
    "        f_wb = x[i] * w + b\n",
    "        cost = cost + (f_wb - y[i]) ** 2\n",
    "    return 1 /(2 * m) * cost"
   ]
  },
  {
   "cell_type": "markdown",
   "metadata": {},
   "source": [
    "### Compute gradient"
   ]
  },
  {
   "cell_type": "code",
   "execution_count": 5,
   "metadata": {},
   "outputs": [],
   "source": [
    "def compute_gradient(x, y, w, b):\n",
    "    \n",
    "    m = x.shape[0]\n",
    "    \n",
    "    dj_dw = 0\n",
    "    dj_db = 0\n",
    "    \n",
    "    for i in range(m):\n",
    "        f_wb = x[i] * w + b\n",
    "        dj_dw += (f_wb - y[i]) * x[i]\n",
    "        dj_db += (f_wb - y[i])\n",
    "    \n",
    "    return (dj_dw / m), (dj_db / m)"
   ]
  },
  {
   "cell_type": "markdown",
   "metadata": {},
   "source": [
    "### Gradient descent"
   ]
  },
  {
   "cell_type": "code",
   "execution_count": 6,
   "metadata": {},
   "outputs": [],
   "source": [
    "def gradient_descent(x, y, learning_rate, w_in, b_in, it):\n",
    "    \n",
    "    cost = []\n",
    "    w = w_in\n",
    "    b = b_in\n",
    "    \n",
    "    for i in range(it):\n",
    "        \n",
    "        dj_dw, dj_db = compute_gradient(x,y,w,b)\n",
    "        w = w - learning_rate * dj_dw\n",
    "        b = b - learning_rate * dj_db\n",
    "        \n",
    "        cost.append(compute_cost(x, y, w, b))\n",
    "        \n",
    "    return w, b, cost"
   ]
  },
  {
   "cell_type": "code",
   "execution_count": 7,
   "metadata": {},
   "outputs": [
    {
     "name": "stdout",
     "output_type": "stream",
     "text": [
      "197.5470214956353 103.96900259373493\n"
     ]
    }
   ],
   "source": [
    "w_in = 0\n",
    "b_in = 0\n",
    "learning_rate = 0.01\n",
    "it = 2000\n",
    "\n",
    "w,b,cost = gradient_descent(x_train, y_train, learning_rate, w_in, b_in, it)\n",
    "\n",
    "print(w, b)"
   ]
  },
  {
   "cell_type": "code",
   "execution_count": 8,
   "metadata": {},
   "outputs": [
    {
     "data": {
      "image/png": "[encoded data removed]",
      "text/plain": [
       "<Figure size 432x288 with 1 Axes>"
      ]
     },
     "metadata": {
      "needs_background": "light"
     },
     "output_type": "display_data"
    }
   ],
   "source": [
    "plt.scatter(x_train, y_train, marker = \"x\")\n",
    "x = []\n",
    "y = []\n",
    "for i in range(len(x_train)):\n",
    "    x.append(x_train[i])\n",
    "    y.append(x_train[i] * w + b)\n",
    "plt.plot(x, y, color = \"r\")\n",
    "plt.show()"
   ]
  }
 ],
 "metadata": {
  "kernelspec": {
   "display_name": "Python 3",
   "language": "python",
   "name": "python3"
  },
  "language_info": {
   "codemirror_mode": {
    "name": "ipython",
    "version": 3
   },
   "file_extension": ".py",
   "mimetype": "text/x-python",
   "name": "python",
   "nbconvert_exporter": "python",
   "pygments_lexer": "ipython3",
   "version": "3.7.1"
  }
 },
 "nbformat": 4,
 "nbformat_minor": 2
}
