{
 "cells": [
  {
   "cell_type": "markdown",
   "metadata": {},
   "source": [
    "## TOOLS\n",
    "Import popular lib\n",
    "- Numpy, popylar lib for scientific computing\n",
    "- Matplotlib, popular lib for plotting data"
   ]
  },
  {
   "cell_type": "code",
   "execution_count": 3,
   "metadata": {},
   "outputs": [],
   "source": [
    "import numpy as np\n",
    "import matplotlib.pyplot as plt"
   ]
  },
  {
   "cell_type": "markdown",
   "metadata": {},
   "source": [
    "- Create x_train for feature input\n",
    "- Create y_train for target output"
   ]
  },
  {
   "cell_type": "code",
   "execution_count": 4,
   "metadata": {},
   "outputs": [
    {
     "name": "stdout",
     "output_type": "stream",
     "text": [
      "[1. 2.]\n",
      "[300. 500.]\n"
     ]
    }
   ],
   "source": [
    "x_train = np.array([1.0, 2.0])\n",
    "y_train = np.array([300.0, 500.0])\n",
    "print(x_train)\n",
    "print(y_train)"
   ]
  },
  {
   "cell_type": "markdown",
   "metadata": {},
   "source": [
    "- Use x_train.shape to return a tuple with the number of elements\n",
    "- Use x_train.shape to return length"
   ]
  },
  {
   "cell_type": "code",
   "execution_count": 5,
   "metadata": {},
   "outputs": [
    {
     "name": "stdout",
     "output_type": "stream",
     "text": [
      "x_train.shape: (2,)\n",
      "Number of training example is 2\n"
     ]
    }
   ],
   "source": [
    "print(f\"x_train.shape: {x_train.shape}\")\n",
    "m = x_train.shape[0]\n",
    "print(f\"Number of training example is {m}\")"
   ]
  },
  {
   "cell_type": "markdown",
   "metadata": {},
   "source": [
    "- Use len to return length too"
   ]
  },
  {
   "cell_type": "code",
   "execution_count": 6,
   "metadata": {},
   "outputs": [
    {
     "name": "stdout",
     "output_type": "stream",
     "text": [
      "Number of training example is 2\n"
     ]
    }
   ],
   "source": [
    "m = len(x_train)\n",
    "print(f\"Number of training example is {m}\")"
   ]
  },
  {
   "cell_type": "markdown",
   "metadata": {},
   "source": [
    "## Show training example x_i, y_i\n",
    "You will use (x$^{(i)}$, y$^{(i)}$) to denote the i$^{(th)}$ training example.\n",
    "The code below is (x$^{(1)}$, y$^{(1)}$)."
   ]
  },
  {
   "cell_type": "code",
   "execution_count": 7,
   "metadata": {},
   "outputs": [
    {
     "name": "stdout",
     "output_type": "stream",
     "text": [
      "1.0, 300.0\n"
     ]
    }
   ],
   "source": [
    "i = 0 \n",
    "x_i = x_train[i]\n",
    "y_i = y_train[i]\n",
    "print(f\"{x_i}, {y_i}\")"
   ]
  },
  {
   "cell_type": "markdown",
   "metadata": {},
   "source": [
    "## Plotting the data\n",
    "You can plot two points using the `scatter()` function in the `matplotlib` lib, as shown in the cell below .\n",
    "- The function arguments `marker` and `c` show the points as red crosses (the default is blue dots).\n",
    "\n",
    "You can use other function in the `matplotlib` lib to set the title and labels to display"
   ]
  },
  {
   "cell_type": "code",
   "execution_count": 8,
   "metadata": {},
   "outputs": [
    {
     "data": {
      "image/png": "[encoded data removed]",
      "text/plain": [
       "<Figure size 432x288 with 1 Axes>"
      ]
     },
     "metadata": {
      "needs_background": "light"
     },
     "output_type": "display_data"
    }
   ],
   "source": [
    "plt.scatter(x_train, y_train, marker='x',c='r')\n",
    "plt.title(\"Housing prices\") # Set the title\n",
    "plt.ylabel(\"Price (in 1000s of dollars)\") # Set the y-axis label\n",
    "plt.xlabel('Size (1000 sqft)') # Set the x-axis label\n",
    "plt.show()"
   ]
  },
  {
   "cell_type": "markdown",
   "metadata": {},
   "source": [
    "The model function for linear regression (which is the function that maps from x to y) is represented as\n",
    "\n",
    "$$ f_{w,b}(x^{(i)}) = wx^{(i)} + b \\tag{1}$$\n",
    "\n",
    "The code below show you how to represent straight lines - different values of w and b give you different straight lines on the plot.\n",
    "\n",
    "Let's start with w = 100, b = 100"
   ]
  },
  {
   "cell_type": "code",
   "execution_count": 9,
   "metadata": {},
   "outputs": [
    {
     "name": "stdout",
     "output_type": "stream",
     "text": [
      "w: 200\n",
      "b: 100\n"
     ]
    }
   ],
   "source": [
    "w = 200\n",
    "b = 100\n",
    "print(f\"w: {w}\")\n",
    "print(f\"b: {b}\")\n"
   ]
  },
  {
   "cell_type": "markdown",
   "metadata": {},
   "source": [
    "Let's compute the value of $ f_{w,b}(x^{(i)}) $ for your two data points.\n",
    "\n",
    "for $x^{(0)}$ , $ f_{w,b} = x[0] + b $\n",
    "\n",
    "for $x^{(1)}$ , $ f_{w,b} = x[1] + b $\n",
    "\n",
    "> **Note**: The argument description `(ndarray (m,))` describes a Numpy n-dimensional array of shape (m,). `(scalar)` describes an argument without dimensions, just a magnitude.  \n",
    "> **Note**: `np.zero(n)` will return a one-dimensional numpy array with $n$ entries\n"
   ]
  },
  {
   "cell_type": "code",
   "execution_count": 10,
   "metadata": {},
   "outputs": [],
   "source": [
    "def computer_model_output(x, w, b):\n",
    "    m = x.shape[0]\n",
    "    f_wb = np.zeros(m)\n",
    "    \n",
    "    for i in range(m):\n",
    "        f_wb[i] = x[i] * w + b\n",
    "    \n",
    "    return f_wb"
   ]
  },
  {
   "cell_type": "markdown",
   "metadata": {},
   "source": [
    "Now, let's call the function and plot this"
   ]
  },
  {
   "cell_type": "code",
   "execution_count": 11,
   "metadata": {},
   "outputs": [
    {
     "data": {
      "image/png": "[encoded data removed]",
      "text/plain": [
       "<Figure size 432x288 with 1 Axes>"
      ]
     },
     "metadata": {
      "needs_background": "light"
     },
     "output_type": "display_data"
    }
   ],
   "source": [
    "tmp_f_wb = computer_model_output(x_train, w, b)\n",
    "plt.plot(x_train, tmp_f_wb, c='b', label='Our prediction')\n",
    "plt.scatter(x_train, y_train, marker='x', c='r', label='Actual Values')\n",
    "plt.title(\"Housing prices\") # Set the title\n",
    "plt.ylabel(\"Price (in 1000s of dollars)\") # Set the y-axis label\n",
    "plt.xlabel('Size (1000 sqft)') # Set the x-axis label\n",
    "plt.legend() # set note for plot\n",
    "plt.show()\n"
   ]
  },
  {
   "cell_type": "markdown",
   "metadata": {},
   "source": [
    "As you can see, setting w = 100 and b = 100 does not result in a line fits our data"
   ]
  }
 ],
 "metadata": {
  "kernelspec": {
   "display_name": "Python 3",
   "language": "python",
   "name": "python3"
  },
  "language_info": {
   "codemirror_mode": {
    "name": "ipython",
    "version": 3
   },
   "file_extension": ".py",
   "mimetype": "text/x-python",
   "name": "python",
   "nbconvert_exporter": "python",
   "pygments_lexer": "ipython3",
   "version": "3.7.1"
  }
 },
 "nbformat": 4,
 "nbformat_minor": 2
}
