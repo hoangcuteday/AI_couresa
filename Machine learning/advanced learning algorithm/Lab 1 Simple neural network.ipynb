{
 "cells": [
  {
   "cell_type": "markdown",
   "id": "a13a482e-8852-484c-813e-2a94f44c29cd",
   "metadata": {},
   "source": [
    "# Optional lab: Simple neural network\n",
    "\n",
    "In this lab, we will build a small neural network using Numpy"
   ]
  },
  {
   "cell_type": "code",
   "execution_count": 2,
   "id": "60292116-a13a-488f-9539-2d8be599999d",
   "metadata": {},
   "outputs": [],
   "source": [
    "import numpy as np\n",
    "import matplotlib.pyplot as plt\n",
    "import tensorflow as tf"
   ]
  },
  {
   "cell_type": "code",
   "execution_count": 3,
   "id": "8d507897-313b-4ef3-900e-1db76be10bfa",
   "metadata": {},
   "outputs": [],
   "source": [
    "def sigmoid(z):\n",
    "    return 1/(1 + np.exp(-z))\n",
    "    \n",
    "def load_coffee_data():\n",
    "    rng = np.random.default_rng(2)\n",
    "    X = rng.random(400).reshape(-1,2)\n",
    "    X[:,1] = X[:,1] * 4 + 11.5          # 12-15 min is best\n",
    "    X[:,0] = X[:,0] * (285-150) + 150  # 350-500 F (175-260 C) is best\n",
    "    Y = np.zeros(len(X))\n",
    "    \n",
    "    i=0\n",
    "    for t,d in X:\n",
    "        y = -3/(260-175)*t + 21\n",
    "        if (t > 175 and t < 260 and d > 12 and d < 15 and d<=y ):\n",
    "            Y[i] = 1\n",
    "        else:\n",
    "            Y[i] = 0\n",
    "        i += 1\n",
    "\n",
    "    return (X, Y.reshape(-1,1))\n",
    "\n",
    "X, y = load_coffee_data()\n",
    "norm_l = tf.keras.layers.Normalization(axis=-1)\n",
    "norm_l.adapt(X)"
   ]
  },
  {
   "cell_type": "markdown",
   "id": "71ea9730-b99e-4a44-816f-fb22333ae859",
   "metadata": {},
   "source": [
    "You will define the my_dense() function which computes the activations of a dense layer."
   ]
  },
  {
   "cell_type": "code",
   "execution_count": 5,
   "id": "480efacc-ea5b-4d25-8278-3ac1a41bf047",
   "metadata": {},
   "outputs": [],
   "source": [
    "def my_dense(a_in, W, b):\n",
    "    units = W.shape[1]\n",
    "    a_out = np.zeros(units)\n",
    "    for i in range(units):\n",
    "        z = np.dot(W[:, i], a_in) + b[i];\n",
    "        a_out[i] = sigmoid(z)\n",
    "    return a_out"
   ]
  },
  {
   "cell_type": "markdown",
   "id": "82bfabac-0bd1-494f-a5b9-59a6eea98c49",
   "metadata": {},
   "source": [
    "The following cell builds a two-layer neural network utilizing the `my_dense` subroutine above."
   ]
  },
  {
   "cell_type": "code",
   "execution_count": 7,
   "id": "fd1053f4-7a73-4efa-b2df-5ce059482ebe",
   "metadata": {},
   "outputs": [],
   "source": [
    "def my_sequential(x, W1, b1, W2, b2):\n",
    "    a1 = my_dense(x, W1, b1)\n",
    "    a2 = my_dense(a1, W2, b2)\n",
    "    return a2"
   ]
  },
  {
   "cell_type": "code",
   "execution_count": 8,
   "id": "0d7f10c2-f85d-4332-b464-8931c65c5893",
   "metadata": {},
   "outputs": [],
   "source": [
    "W1_tmp = np.array( [[-8.93,  0.29, 12.9 ], [-0.1,  -7.32, 10.81]] )\n",
    "b1_tmp = np.array( [-9.82, -9.28,  0.96] )\n",
    "W2_tmp = np.array( [[-31.18], [-27.59], [-32.56]] )\n",
    "b2_tmp = np.array( [15.41] )"
   ]
  },
  {
   "cell_type": "markdown",
   "id": "9e2b847d-7710-478c-87c3-3028953d8acd",
   "metadata": {},
   "source": [
    "## Predictions\n",
    "Let's start by writing a routine similar to Tensorflow's model.predict(). This will take a matrix  𝑋\r\n",
    "  with all  𝑚\r\n",
    "  examples in the rows and make a prediction by running the model."
   ]
  },
  {
   "cell_type": "code",
   "execution_count": 10,
   "id": "43925cf0-b8f6-4eb5-82cf-6a2f06c7fb0c",
   "metadata": {},
   "outputs": [],
   "source": [
    "def my_predict(X, W1, b1, W2, b2):\n",
    "    m = X.shape[0]\n",
    "    p = np.zeros((m, 1))\n",
    "    for i in range(m):\n",
    "        p[i, 0] = my_sequential(X[i], W1, b1, W2, b2)\n",
    "    return p"
   ]
  },
  {
   "cell_type": "code",
   "execution_count": 11,
   "id": "adb895cc-b066-46e2-8876-2757ff37b67b",
   "metadata": {},
   "outputs": [
    {
     "name": "stdout",
     "output_type": "stream",
     "text": [
      "tf.Tensor([-0.46714395  0.4159052 ], shape=(2,), dtype=float32)\n",
      "tf.Tensor([-0.46714395  3.1631167 ], shape=(2,), dtype=float32)\n",
      "[[9.71932288e-01]\n",
      " [3.28978626e-08]]\n"
     ]
    },
    {
     "name": "stderr",
     "output_type": "stream",
     "text": [
      "C:\\Users\\Windows\\AppData\\Local\\Temp\\ipykernel_14636\\1837212533.py:5: DeprecationWarning: Conversion of an array with ndim > 0 to a scalar is deprecated, and will error in future. Ensure you extract a single element from your array before performing this operation. (Deprecated NumPy 1.25.)\n",
      "  p[i, 0] = my_sequential(X[i], W1, b1, W2, b2)\n"
     ]
    }
   ],
   "source": [
    "X_tst = np.array([\n",
    "    [200,13.9],  # postive example\n",
    "    [200,17]])   # negative example\n",
    "X_tstn = norm_l(X_tst)  # remember to normalize\n",
    "predictions = my_predict(X_tstn, W1_tmp, b1_tmp, W2_tmp, b2_tmp)\n",
    "print(predictions)"
   ]
  },
  {
   "cell_type": "markdown",
   "id": "c3433d71-a027-4f05-85cf-f45eacce8877",
   "metadata": {},
   "source": [
    "To convert the probabilities to a decision, we apply a threshold:"
   ]
  },
  {
   "cell_type": "code",
   "execution_count": 13,
   "id": "325353dd-ebb7-4a40-b7bc-8dfba0206018",
   "metadata": {},
   "outputs": [
    {
     "name": "stdout",
     "output_type": "stream",
     "text": [
      "decisions = \n",
      "[[1.]\n",
      " [0.]]\n"
     ]
    }
   ],
   "source": [
    "yhat = np.zeros_like(predictions)\n",
    "for i in range(len(predictions)):\n",
    "    if predictions[i] >= 0.5:\n",
    "        yhat[i] = 1\n",
    "    else:\n",
    "        yhat[i] = 0\n",
    "print(f\"decisions = \\n{yhat}\")"
   ]
  }
 ],
 "metadata": {
  "kernelspec": {
   "display_name": "Python 3 (ipykernel)",
   "language": "python",
   "name": "python3"
  },
  "language_info": {
   "codemirror_mode": {
    "name": "ipython",
    "version": 3
   },
   "file_extension": ".py",
   "mimetype": "text/x-python",
   "name": "python",
   "nbconvert_exporter": "python",
   "pygments_lexer": "ipython3",
   "version": "3.9.18"
  }
 },
 "nbformat": 4,
 "nbformat_minor": 5
}
