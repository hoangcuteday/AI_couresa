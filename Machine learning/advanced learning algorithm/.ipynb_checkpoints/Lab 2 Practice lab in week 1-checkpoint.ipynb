{
 "cells": [
  {
   "cell_type": "markdown",
   "id": "47bee5cc-4fde-410a-a089-50c76e698d8f",
   "metadata": {},
   "source": [
    "# Practice Lab: Neural Networks for Handwritten Digit Recognition, Binary\n",
    "In this exercise, you will use a neural network to recognize the hand-written digits zero and one.\n",
    "\r\n"
   ]
  },
  {
   "cell_type": "markdown",
   "id": "e8e5b5e8-0d65-4a98-a26c-17afac92ce3d",
   "metadata": {},
   "source": [
    "Import the packages that you will need during this assignment\n",
    "* Numpy\n",
    "* Matplotlib\n",
    "* Tensorflow"
   ]
  },
  {
   "cell_type": "code",
   "execution_count": 3,
   "id": "2a705122-bc00-4e6b-b915-c379c7fefad7",
   "metadata": {},
   "outputs": [],
   "source": [
    "import numpy as np\n",
    "import tensorflow as tf\n",
    "from tensorflow.keras.layers import Dense, Input\n",
    "from tensorflow.keras import Sequential\n",
    "import matplotlib.pyplot as plt\n",
    "\n",
    "%matplotlib inline\n",
    "\n"
   ]
  },
  {
   "cell_type": "code",
   "execution_count": 4,
   "id": "d82ad172-9c26-4755-aa90-cf7f19c8f8b6",
   "metadata": {},
   "outputs": [],
   "source": [
    "def load_data():\n",
    "    X = np.load(\"data/X.npy\")\n",
    "    y = np.load(\"data/y.npy\")\n",
    "    X = X[0:1000]\n",
    "    y = y[0:1000]\n",
    "    return X, y\n",
    "    \n",
    "def load_weights():\n",
    "    w1 = np.load(\"data/w1.npy\")\n",
    "    b1 = np.load(\"data/b1.npy\")\n",
    "    w2 = np.load(\"data/w2.npy\")\n",
    "    b2 = np.load(\"data/b2.npy\")\n",
    "    return w1, b1, w2, b2\n",
    "    \n",
    "def sigmoid(x):\n",
    "    return 1. / (1. + np.exp(-x))\n"
   ]
  },
  {
   "cell_type": "markdown",
   "id": "78592915-dbca-47cc-9cc4-f896159a1d35",
   "metadata": {},
   "source": [
    "## Dataset"
   ]
  },
  {
   "cell_type": "code",
   "execution_count": 6,
   "id": "4de63819-12d4-482f-a7f4-d7584c350677",
   "metadata": {},
   "outputs": [
    {
     "name": "stdout",
     "output_type": "stream",
     "text": [
      "The shape of X is: (1000, 400)\n",
      "The shape of y is: (1000, 1)\n"
     ]
    }
   ],
   "source": [
    "# Load dataset\n",
    "X, y = load_data()\n",
    "print ('The shape of X is: ' + str(X.shape))\n",
    "print ('The shape of y is: ' + str(y.shape))"
   ]
  },
  {
   "cell_type": "markdown",
   "id": "19a286cd-040e-4ae5-8473-a374f2e6e21f",
   "metadata": {},
   "source": [
    "## Visualizing the Data"
   ]
  },
  {
   "cell_type": "code",
   "execution_count": 8,
   "id": "e4980f90-c4ee-47de-8938-1fb6f8aaf894",
   "metadata": {},
   "outputs": [],
   "source": [
    "# m, n = X.shape\n",
    "\n",
    "# fig, axes = plt.subplots(8,8, figsize=(8,8))\n",
    "# fig.tight_layout(pad=0.1)\n",
    "\n",
    "# for i,ax in enumerate(axes.flat):\n",
    "#     # Select random indices\n",
    "#     random_index = np.random.randint(m)\n",
    "    \n",
    "#     # Select rows corresponding to the random indices and\n",
    "#     # reshape the image\n",
    "#     X_random_reshaped = X[random_index].reshape((20,20)).T\n",
    "    \n",
    "#     # Display the image\n",
    "#     ax.imshow(X_random_reshaped, cmap='gray')\n",
    "    \n",
    "#     # Display the label above the image\n",
    "#     ax.set_title(y[random_index,0])\n",
    "#     ax.set_axis_off()"
   ]
  },
  {
   "cell_type": "markdown",
   "id": "313d7ae6-8341-4f2c-9773-54f8e50b249d",
   "metadata": {},
   "source": [
    "## Tensorflow Model Implementation"
   ]
  },
  {
   "cell_type": "code",
   "execution_count": 10,
   "id": "88311775-410c-4a62-9dc8-28691892a65c",
   "metadata": {},
   "outputs": [],
   "source": [
    "model = Sequential(\n",
    "    [\n",
    "        Input(shape = (400,)),\n",
    "        Dense(25, activation = \"sigmoid\"),\n",
    "        Dense(15, activation = \"sigmoid\"),\n",
    "        Dense(1, activation = \"sigmoid\")\n",
    "    ], name = \"my_models\"\n",
    ")\n"
   ]
  },
  {
   "cell_type": "code",
   "execution_count": 11,
   "id": "cfb832f9-24b5-4698-a5f9-3ec4cff00043",
   "metadata": {},
   "outputs": [
    {
     "name": "stdout",
     "output_type": "stream",
     "text": [
      "Model: \"my_models\"\n",
      "_________________________________________________________________\n",
      " Layer (type)                Output Shape              Param #   \n",
      "=================================================================\n",
      " dense (Dense)               (None, 25)                10025     \n",
      "                                                                 \n",
      " dense_1 (Dense)             (None, 15)                390       \n",
      "                                                                 \n",
      " dense_2 (Dense)             (None, 1)                 16        \n",
      "                                                                 \n",
      "=================================================================\n",
      "Total params: 10,431\n",
      "Trainable params: 10,431\n",
      "Non-trainable params: 0\n",
      "_________________________________________________________________\n"
     ]
    }
   ],
   "source": [
    "model.summary()"
   ]
  },
  {
   "cell_type": "code",
   "execution_count": 12,
   "id": "5314ee9a-b0b6-4a7c-8769-f2eb14684700",
   "metadata": {},
   "outputs": [
    {
     "name": "stdout",
     "output_type": "stream",
     "text": [
      "W1 shape = (400, 25), b1 shape = (25,)\n",
      "W2 shape = (25, 15), b2 shape = (15,)\n",
      "W3 shape = (15, 1), b3 shape = (1,)\n"
     ]
    }
   ],
   "source": [
    "[layer1, layer2, layer3] = model.layers\n",
    "#### Examine Weights shapes\n",
    "W1,b1 = layer1.get_weights()\n",
    "W2,b2 = layer2.get_weights()\n",
    "W3,b3 = layer3.get_weights()\n",
    "print(f\"W1 shape = {W1.shape}, b1 shape = {b1.shape}\")\n",
    "print(f\"W2 shape = {W2.shape}, b2 shape = {b2.shape}\")\n",
    "print(f\"W3 shape = {W3.shape}, b3 shape = {b3.shape}\")"
   ]
  },
  {
   "cell_type": "code",
   "execution_count": 13,
   "id": "fe114607-65b6-4ab7-970a-949b7c67aa47",
   "metadata": {},
   "outputs": [
    {
     "name": "stdout",
     "output_type": "stream",
     "text": [
      "[<tf.Variable 'dense_2/kernel:0' shape=(15, 1) dtype=float32, numpy=\n",
      "array([[ 0.04100376],\n",
      "       [-0.31436068],\n",
      "       [-0.15370238],\n",
      "       [-0.27982035],\n",
      "       [ 0.37828457],\n",
      "       [-0.3573292 ],\n",
      "       [-0.212426  ],\n",
      "       [ 0.58682233],\n",
      "       [-0.04213119],\n",
      "       [ 0.39292103],\n",
      "       [ 0.04477108],\n",
      "       [-0.2701742 ],\n",
      "       [-0.22380328],\n",
      "       [ 0.3937189 ],\n",
      "       [-0.19251835]], dtype=float32)>, <tf.Variable 'dense_2/bias:0' shape=(1,) dtype=float32, numpy=array([0.], dtype=float32)>]\n"
     ]
    }
   ],
   "source": [
    "print(model.layers[2].weights)"
   ]
  },
  {
   "cell_type": "markdown",
   "id": "e4e6d361-7089-4e5a-9358-e65607aab111",
   "metadata": {},
   "source": [
    "The following code will define a loss function and run gradient descent to fit the weights of the model to the training data. This will be explained in more detail in the following week."
   ]
  },
  {
   "cell_type": "code",
   "execution_count": 25,
   "id": "18e71113-e899-419a-b637-5261aff0f23d",
   "metadata": {},
   "outputs": [
    {
     "name": "stdout",
     "output_type": "stream",
     "text": [
      "Epoch 1/20\n",
      "32/32 [==============================] - 0s 1ms/step - loss: 0.0202\n",
      "Epoch 2/20\n",
      "32/32 [==============================] - 0s 2ms/step - loss: 0.0169\n",
      "Epoch 3/20\n",
      "32/32 [==============================] - 0s 1ms/step - loss: 0.0152\n",
      "Epoch 4/20\n",
      "32/32 [==============================] - 0s 1ms/step - loss: 0.0138\n",
      "Epoch 5/20\n",
      "32/32 [==============================] - 0s 1ms/step - loss: 0.0127\n",
      "Epoch 6/20\n",
      "32/32 [==============================] - 0s 968us/step - loss: 0.0119\n",
      "Epoch 7/20\n",
      "32/32 [==============================] - 0s 1ms/step - loss: 0.0111\n",
      "Epoch 8/20\n",
      "32/32 [==============================] - 0s 777us/step - loss: 0.0105\n",
      "Epoch 9/20\n",
      "32/32 [==============================] - 0s 1ms/step - loss: 0.0098\n",
      "Epoch 10/20\n",
      "32/32 [==============================] - 0s 1ms/step - loss: 0.0085\n",
      "Epoch 11/20\n",
      "32/32 [==============================] - 0s 914us/step - loss: 0.0061\n",
      "Epoch 12/20\n",
      "32/32 [==============================] - 0s 900us/step - loss: 0.0048\n",
      "Epoch 13/20\n",
      "32/32 [==============================] - 0s 1ms/step - loss: 0.0042\n",
      "Epoch 14/20\n",
      "32/32 [==============================] - 0s 786us/step - loss: 0.0038\n",
      "Epoch 15/20\n",
      "32/32 [==============================] - 0s 1ms/step - loss: 0.0035\n",
      "Epoch 16/20\n",
      "32/32 [==============================] - 0s 1ms/step - loss: 0.0032\n",
      "Epoch 17/20\n",
      "32/32 [==============================] - 0s 1ms/step - loss: 0.0030\n",
      "Epoch 18/20\n",
      "32/32 [==============================] - 0s 1ms/step - loss: 0.0028\n",
      "Epoch 19/20\n",
      "32/32 [==============================] - 0s 981us/step - loss: 0.0026\n",
      "Epoch 20/20\n",
      "32/32 [==============================] - 0s 1ms/step - loss: 0.0024\n"
     ]
    },
    {
     "data": {
      "text/plain": [
       "<keras.callbacks.History at 0x1bcb76c6910>"
      ]
     },
     "execution_count": 25,
     "metadata": {},
     "output_type": "execute_result"
    }
   ],
   "source": [
    "model.compile(\n",
    "    loss=tf.keras.losses.BinaryCrossentropy(),\n",
    "    optimizer=tf.keras.optimizers.Adam(0.001),\n",
    ")\n",
    "\n",
    "model.fit(\n",
    "    X,y,\n",
    "    epochs=20\n",
    ")"
   ]
  },
  {
   "cell_type": "code",
   "execution_count": 27,
   "id": "c3a6cf8c-2804-4a6d-853f-99aa9dc0499e",
   "metadata": {},
   "outputs": [
    {
     "name": "stdout",
     "output_type": "stream",
     "text": [
      "1/1 [==============================] - 0s 56ms/step\n",
      " predicting a zero: [[0.00092878]]\n",
      "1/1 [==============================] - 0s 15ms/step\n",
      " predicting a one:  [[0.9965191]]\n"
     ]
    }
   ],
   "source": [
    "prediction = model.predict(X[0].reshape(1,400))  # a zero\n",
    "print(f\" predicting a zero: {prediction}\")\n",
    "prediction = model.predict(X[500].reshape(1,400))  # a one\n",
    "print(f\" predicting a one:  {prediction}\")"
   ]
  },
  {
   "cell_type": "code",
   "execution_count": 29,
   "id": "5b447538-6653-4b92-af92-35a6929e98ff",
   "metadata": {},
   "outputs": [
    {
     "name": "stdout",
     "output_type": "stream",
     "text": [
      "prediction after threshold: 1\n"
     ]
    }
   ],
   "source": [
    "if prediction >= 0.5:\n",
    "    yhat = 1\n",
    "else:\n",
    "    yhat = 0\n",
    "print(f\"prediction after threshold: {yhat}\")"
   ]
  },
  {
   "cell_type": "markdown",
   "id": "f26ec801-5b43-4a19-8c29-a96e8e4c4834",
   "metadata": {},
   "source": [
    "Let's compare the predictions vs the labels for a random sample of 64 digits. This takes a moment to run."
   ]
  },
  {
   "cell_type": "code",
   "execution_count": null,
   "id": "2ee7be76-e1fa-4292-a1fe-c4e06ec63a9f",
   "metadata": {},
   "outputs": [],
   "source": [
    "# import warnings\n",
    "# warnings.simplefilter(action='ignore', category=FutureWarning)\n",
    "# # You do not need to modify anything in this cell\n",
    "\n",
    "# m, n = X.shape\n",
    "\n",
    "# fig, axes = plt.subplots(8,8, figsize=(8,8))\n",
    "# fig.tight_layout(pad=0.1,rect=[0, 0.03, 1, 0.92]) #[left, bottom, right, top]\n",
    "\n",
    "# for i,ax in enumerate(axes.flat):\n",
    "#     # Select random indices\n",
    "#     random_index = np.random.randint(m)\n",
    "    \n",
    "#     # Select rows corresponding to the random indices and\n",
    "#     # reshape the image\n",
    "#     X_random_reshaped = X[random_index].reshape((20,20)).T\n",
    "    \n",
    "#     # Display the image\n",
    "#     ax.imshow(X_random_reshaped, cmap='gray')\n",
    "    \n",
    "#     # Predict using the Neural Network\n",
    "#     prediction = model.predict(X[random_index].reshape(1,400))\n",
    "#     if prediction >= 0.5:\n",
    "#         yhat = 1\n",
    "#     else:\n",
    "#         yhat = 0\n",
    "    \n",
    "#     # Display the label above the image\n",
    "#     ax.set_title(f\"{y[random_index,0]},{yhat}\")\n",
    "#     ax.set_axis_off()\n",
    "# fig.suptitle(\"Label, yhat\", fontsize=16)\n",
    "# plt.show()"
   ]
  },
  {
   "cell_type": "code",
   "execution_count": null,
   "id": "fff69808-d38f-45a4-8bba-2b61780f7f13",
   "metadata": {},
   "outputs": [],
   "source": []
  }
 ],
 "metadata": {
  "kernelspec": {
   "display_name": "Python 3 (ipykernel)",
   "language": "python",
   "name": "python3"
  },
  "language_info": {
   "codemirror_mode": {
    "name": "ipython",
    "version": 3
   },
   "file_extension": ".py",
   "mimetype": "text/x-python",
   "name": "python",
   "nbconvert_exporter": "python",
   "pygments_lexer": "ipython3",
   "version": "3.9.18"
  }
 },
 "nbformat": 4,
 "nbformat_minor": 5
}
